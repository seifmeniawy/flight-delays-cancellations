{
 "cells": [
  {
   "cell_type": "markdown",
   "id": "3fdb55b6-f18a-4a10-85d7-95322332c65c",
   "metadata": {
    "tags": []
   },
   "source": [
    "## Flight Delays and Cancellations Data Visualizations"
   ]
  },
  {
   "cell_type": "markdown",
   "id": "619b970c-6156-4552-b266-cb6f076097fe",
   "metadata": {},
   "source": [
    "<br>\n",
    "\n",
    "These dashboards are based on **Departure Flights.** Which means that the airlines and airports tables are connected to the flights table using an inner join in Tableau on the following.<br>\n",
    "- **Airline** (flights.csv) = **Iata Code** (airlines.csv)\n",
    "- **Origin Airport** (flights.csv) = **Iata Code** (airports.csv)"
   ]
  },
  {
   "cell_type": "markdown",
   "id": "27399141-c222-46a0-8b49-08c190069f1e",
   "metadata": {},
   "source": [
    "<br>\n",
    "\n",
    "### Insight 1:"
   ]
  },
  {
   "cell_type": "markdown",
   "id": "67b0f4a9-ed03-44de-82ea-9118ed2879dd",
   "metadata": {},
   "source": [
    "Tableau Link: https://public.tableau.com/views/DepartureFlightDelaysDashboard/DepartureFlightDelaysDashboard?:language=en-US&:display_count=n&:origin=viz_share_link"
   ]
  },
  {
   "cell_type": "markdown",
   "id": "c579caeb-8dda-41d7-ad9f-137c5e427bd2",
   "metadata": {},
   "source": [
    "#### Exploring which states have the most flight delays on departure and flight delays distribution across months."
   ]
  },
  {
   "cell_type": "markdown",
   "id": "53ee3d61-9b3f-4b53-a54a-b0421cd10857",
   "metadata": {},
   "source": [
    "- Design Considerations:\n",
    "\n",
    "Plots used in this dashboard include:<br>\n",
    "\n",
    "**Map:** a map was used to plot the number of **Delayed Flights** for every state. The number of delayed flights is represented by the color. A darker color represents a higher number, while a lighter color represents a smaller number. This plot was chosen because we are visuallizing geographical data.\n",
    "<br>\n",
    "\n",
    "**Line Chart:** a line chart was used to plot the number of **Delayed Flights** across all months. The choice of this specific plot is because line charts are best used to describe or visually represent data on a timeline.\n",
    "<br>\n",
    "\n",
    "**Bar Chart:** a bar chart was used to plot the **Proportion of Delayed Flights**. This plot was chosen because bar charts are very effective in visually representing or comparing between categorical variables."
   ]
  },
  {
   "cell_type": "markdown",
   "id": "0e5ee55a-8dd9-49a2-a424-aa1f44d3a769",
   "metadata": {},
   "source": [
    "- Findings:\n",
    "\n",
    "By looking at the map visualization, we can see that the states with highest number of delayed flights are **California, Texas,** and **Florida.**\n",
    "<br>\n",
    "<br>\n",
    "**However,** to accurately reflect which states suffer the most delays on departure, we will have to look at the proportion of delayed flights against the total number of flights for every state. By looking at the proportion, we can more accurately assess which states suffer the most delays regardless of the number of flights, since some states have a higher number of total flights than others. This can be studied using the bar chart provided.\n",
    "<br>\n",
    "<br>\n",
    "We can see the distribution of flight delays during different months of the year in the line chart. By looking at the line chart, we can see that the month with the highest number of flight delays is **July** with **26,575** delayed flights. While the month with the lowest number of flight delays is **February** with **21,367** delayed flights.<br><br>\n",
    "\n",
    "Using filters, we can dive into more specific details regarding number of flight delays in a specific month based on a specific airline or state."
   ]
  },
  {
   "cell_type": "markdown",
   "id": "70180b34-0049-42ce-9ec2-4d6b018cdd7b",
   "metadata": {},
   "source": [
    "<br>\n",
    "\n",
    "### Insight 2:"
   ]
  },
  {
   "cell_type": "markdown",
   "id": "6ade3ad4-8409-4668-b28f-b441d9d2d147",
   "metadata": {},
   "source": [
    "Tableau Link: \n",
    "https://public.tableau.com/views/AirlineDelaysDashboard_16708449066800/AirlinesDashboard?:language=en-US&publish=yes&:display_count=n&:origin=viz_share_link"
   ]
  },
  {
   "cell_type": "markdown",
   "id": "55e6bc25-917e-472a-b26e-57850e4bbdc2",
   "metadata": {},
   "source": [
    "#### Exploring total number of flights, average distance travelled, and Air System Delay per Airline"
   ]
  },
  {
   "cell_type": "markdown",
   "id": "cfa80b0d-a807-4f72-b02d-271162579bc1",
   "metadata": {},
   "source": [
    "- Design Considerations:\n",
    "\n",
    "Plots used in this dashboard include:<br>\n",
    "\n",
    "**Tree Map:** a tree map was used to plot the **Number of Flights per Airline.** Tree maps seem useful, for this specific plot, when comparing between variables as they can visually convey the difference in the number of flights by the size and shade of the color of the square. A larger, darker square means a higher number of flights, while a smaller, lighter square means a lower number of flights.\n",
    "<br>\n",
    "\n",
    "**Bar Chart:** a bar chart was used to plot the **Average Distance Travelled by Airline**. This plot was chosen because bar charts are very effective in visually representing or comparing between categorical variables, in this case the average distance travelled for each airline.\n",
    "<br>\n",
    "\n",
    "**Line Chart:** a line chart was used to plot the amount of **Air System Delay** across all months. The choice of this specific plot is because line charts are best used to describe or visually represent data on a timeline. To ensure this plot is color-blindness friendly, I made sure to make the lines in different sizes so that they can be distinguishable.\n",
    "<br>\n"
   ]
  },
  {
   "cell_type": "markdown",
   "id": "cadae878-8af9-405c-aa1e-e4291b43866e",
   "metadata": {},
   "source": [
    "- Findings:\n",
    "\n",
    "By looking at the tree map, we can see that the airlines with the highest number of flights are **Southwest Airlines, Delta Air lines,** and **American Airlines.**<br><br>\n",
    "By looking at the bar chart, we can see that the average distance travelled per Airline tell a different story. The airline with the highest average distance travelled is **Virgin America**, although **Southwest Airlines** had the largest number of flights. This can be a result of **Southwest Airlines** having a larger number of flights, but the distances of these flights are relatively short compared to the smaller number of flights, but larger distances travelled by **Virgin America** flights.\n",
    "<br><br>\n",
    "By looking at the line chart, we can see that all airlines have faced air system delay. **Delta Air lines** faced the worst Air System Delay in **June**. \n",
    "<br><br>\n",
    "By selecting an airline, we can dive into more specific details regarding number of flights, average distance travelled, and Air System Delay for a specific airline."
   ]
  },
  {
   "cell_type": "markdown",
   "id": "c5e663e7-fc7f-4aaa-b3f7-30bd98d235d1",
   "metadata": {},
   "source": [
    "<br>\n",
    "\n",
    "### Insight 3:"
   ]
  },
  {
   "cell_type": "markdown",
   "id": "efba54d0-5e89-4e84-b098-0128729c36d7",
   "metadata": {},
   "source": [
    "Tableau Link:\n",
    "\n",
    "https://public.tableau.com/views/CancellationReasonsDistribution_16708520476100/CancellationReasonDistribution?:language=en-US&publish=yes&:display_count=n&:origin=viz_share_link"
   ]
  },
  {
   "cell_type": "markdown",
   "id": "21c1fcbf-e658-4646-9d23-5072d68fd687",
   "metadata": {},
   "source": [
    "#### What reasons contribute the most for flight cancellations?"
   ]
  },
  {
   "cell_type": "markdown",
   "id": "b906e438-b686-4b71-8376-842cf50e3d74",
   "metadata": {},
   "source": [
    "- Design Considerations:\n",
    "\n",
    "Plot used in this worksheet:<br>\n",
    "\n",
    "**Bar Chart:** a bar chart was used to plot the distribution of **Cancellation Reasons** across all cancelled flights. This plot was chosen because bar charts are very effective in visually representing or comparing between categorical variables, in this case cancellation reasons."
   ]
  },
  {
   "cell_type": "markdown",
   "id": "1acb4b35-6828-4621-9bef-a2346c0940ef",
   "metadata": {},
   "source": [
    "- Findings:\n",
    "\n",
    "By looking at the bar chart, we find that the overall most common reason for flight cancellations, across all cancelled flights, is **Weather Conditions.** By using filters for airlines and states, you can get more specific information about the cancellation reason distributions for different airlines, in different states."
   ]
  }
 ],
 "metadata": {
  "kernelspec": {
   "display_name": "Python 3 (ipykernel)",
   "language": "python",
   "name": "python3"
  },
  "language_info": {
   "codemirror_mode": {
    "name": "ipython",
    "version": 3
   },
   "file_extension": ".py",
   "mimetype": "text/x-python",
   "name": "python",
   "nbconvert_exporter": "python",
   "pygments_lexer": "ipython3",
   "version": "3.9.15"
  }
 },
 "nbformat": 4,
 "nbformat_minor": 5
}
